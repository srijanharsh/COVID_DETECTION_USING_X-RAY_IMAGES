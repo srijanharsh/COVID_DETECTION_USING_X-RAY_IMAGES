{
  "nbformat": 4,
  "nbformat_minor": 0,
  "metadata": {
    "colab": {
      "name": "COVID_X_RAY.ipynb",
      "provenance": [],
      "collapsed_sections": [],
      "mount_file_id": "1HuEl98aOJmHYIAYMp0HHegGJfEof4F0m",
      "authorship_tag": "ABX9TyN0CFF4/wj1+OaDXOMCZqcR",
      "include_colab_link": true
    },
    "kernelspec": {
      "name": "python3",
      "display_name": "Python 3"
    },
    "language_info": {
      "name": "python"
    },
    "accelerator": "GPU"
  },
  "cells": [
    {
      "cell_type": "markdown",
      "metadata": {
        "id": "view-in-github",
        "colab_type": "text"
      },
      "source": [
        "<a href=\"https://colab.research.google.com/github/srijanharsh/COVID_DETECTION_USING_X-RAY_IMAGES/blob/main/COVID_X_RAY.ipynb\" target=\"_parent\"><img src=\"https://colab.research.google.com/assets/colab-badge.svg\" alt=\"Open In Colab\"/></a>"
      ]
    },
    {
      "cell_type": "code",
      "execution_count": 1,
      "metadata": {
        "colab": {
          "base_uri": "https://localhost:8080/"
        },
        "id": "cW_DvM0Ejy-X",
        "outputId": "12bac065-9bc4-486e-8f52-82b8bb596cd3"
      },
      "outputs": [
        {
          "output_type": "stream",
          "name": "stdout",
          "text": [
            "--2022-04-16 09:18:42--  http://cb.lk/covid_19\n",
            "Resolving cb.lk (cb.lk)... 172.67.187.81, 104.21.72.203, 2606:4700:3031::6815:48cb, ...\n",
            "Connecting to cb.lk (cb.lk)|172.67.187.81|:80... connected.\n",
            "HTTP request sent, awaiting response... 301 Moved Permanently\n",
            "Location: https://cb.lk/covid_19 [following]\n",
            "--2022-04-16 09:18:43--  https://cb.lk/covid_19\n",
            "Connecting to cb.lk (cb.lk)|172.67.187.81|:443... connected.\n",
            "HTTP request sent, awaiting response... 302 Found\n",
            "Location: https://www.dropbox.com/s/7rjw6oet4za01op/CovidDataset-20200427T133042Z-001.zip?dl=0 [following]\n",
            "--2022-04-16 09:18:43--  https://www.dropbox.com/s/7rjw6oet4za01op/CovidDataset-20200427T133042Z-001.zip?dl=0\n",
            "Resolving www.dropbox.com (www.dropbox.com)... 162.125.3.18, 2620:100:6030:18::a27d:5012\n",
            "Connecting to www.dropbox.com (www.dropbox.com)|162.125.3.18|:443... connected.\n",
            "HTTP request sent, awaiting response... 301 Moved Permanently\n",
            "Location: /s/raw/7rjw6oet4za01op/CovidDataset-20200427T133042Z-001.zip [following]\n",
            "--2022-04-16 09:18:43--  https://www.dropbox.com/s/raw/7rjw6oet4za01op/CovidDataset-20200427T133042Z-001.zip\n",
            "Reusing existing connection to www.dropbox.com:443.\n",
            "HTTP request sent, awaiting response... 302 Found\n",
            "Location: https://uc99554a41a022dae6280c8e4516.dl.dropboxusercontent.com/cd/0/inline/BjftW8QZqPp2qOXE3WnflhHPrhCo7F4AtnsdHXgcwxJMXgdy6_YrCUUKHRljoyCVyWweD0jVDgngahTJNSBxaSBHAWEMQYIHwLNr5ta02yBX6WcgVOBh5HH2X8IhVKSgFvzsxz-vEVX51WUu5Wk8E3x579_Pz_VCt5zssUo8YCt3Zw/file# [following]\n",
            "--2022-04-16 09:18:44--  https://uc99554a41a022dae6280c8e4516.dl.dropboxusercontent.com/cd/0/inline/BjftW8QZqPp2qOXE3WnflhHPrhCo7F4AtnsdHXgcwxJMXgdy6_YrCUUKHRljoyCVyWweD0jVDgngahTJNSBxaSBHAWEMQYIHwLNr5ta02yBX6WcgVOBh5HH2X8IhVKSgFvzsxz-vEVX51WUu5Wk8E3x579_Pz_VCt5zssUo8YCt3Zw/file\n",
            "Resolving uc99554a41a022dae6280c8e4516.dl.dropboxusercontent.com (uc99554a41a022dae6280c8e4516.dl.dropboxusercontent.com)... 162.125.3.15, 2620:100:601c:15::a27d:60f\n",
            "Connecting to uc99554a41a022dae6280c8e4516.dl.dropboxusercontent.com (uc99554a41a022dae6280c8e4516.dl.dropboxusercontent.com)|162.125.3.15|:443... connected.\n",
            "HTTP request sent, awaiting response... 302 Found\n",
            "Location: /cd/0/inline2/BjeYKYTn7YJj_wkR4iWNrTS5djsCGZTUoMmSoGUsZDwQlGcChCnKWlH0FTxfFwn_dKmuM5bLSOjb-9aMiT8zLxOpzVXH2wO3e-lrrCkh7RjUotoqvz9ivTX580-nOuB4NMYFwQbs5ixCrMW54M6HT-k3PLFm9l502rbOTSWpDH7-shvXdxpGPEb-sz90gB7qYAC2146C3NwsF2kiNxN6SozH9pyh4D7hj-MMtTQECEqXyuyRbJO3naHvrtdO3suzubX3RYLd-dzSieo66r4m_oDVofIBNMJPdRWnedHmevyyW4eF_MpKw8Gdb9RyIyWFGaHL-XTLS50ogv_B7DxkvbT5voqS3QE37BeyigEETS4OD4yIY5C3cWad6kXQBIPJBILEI8CPnVY0tVv4hzautuXQWsNptr4vzkHHUJM5A3TOig/file [following]\n",
            "--2022-04-16 09:18:44--  https://uc99554a41a022dae6280c8e4516.dl.dropboxusercontent.com/cd/0/inline2/BjeYKYTn7YJj_wkR4iWNrTS5djsCGZTUoMmSoGUsZDwQlGcChCnKWlH0FTxfFwn_dKmuM5bLSOjb-9aMiT8zLxOpzVXH2wO3e-lrrCkh7RjUotoqvz9ivTX580-nOuB4NMYFwQbs5ixCrMW54M6HT-k3PLFm9l502rbOTSWpDH7-shvXdxpGPEb-sz90gB7qYAC2146C3NwsF2kiNxN6SozH9pyh4D7hj-MMtTQECEqXyuyRbJO3naHvrtdO3suzubX3RYLd-dzSieo66r4m_oDVofIBNMJPdRWnedHmevyyW4eF_MpKw8Gdb9RyIyWFGaHL-XTLS50ogv_B7DxkvbT5voqS3QE37BeyigEETS4OD4yIY5C3cWad6kXQBIPJBILEI8CPnVY0tVv4hzautuXQWsNptr4vzkHHUJM5A3TOig/file\n",
            "Reusing existing connection to uc99554a41a022dae6280c8e4516.dl.dropboxusercontent.com:443.\n",
            "HTTP request sent, awaiting response... 200 OK\n",
            "Length: 140830621 (134M) [application/zip]\n",
            "Saving to: ‘covid_19.1’\n",
            "\n",
            "covid_19.1          100%[===================>] 134.31M  84.8MB/s    in 1.6s    \n",
            "\n",
            "2022-04-16 09:18:46 (84.8 MB/s) - ‘covid_19.1’ saved [140830621/140830621]\n",
            "\n"
          ]
        }
      ],
      "source": [
        "!wget http://cb.lk/covid_19"
      ]
    },
    {
      "cell_type": "code",
      "source": [
        "!unzip covid_19"
      ],
      "metadata": {
        "colab": {
          "base_uri": "https://localhost:8080/"
        },
        "id": "1j9K_N1EkSJS",
        "outputId": "6f7b6fcf-b016-4ea7-89c4-4fb888f8c321"
      },
      "execution_count": 2,
      "outputs": [
        {
          "output_type": "stream",
          "name": "stdout",
          "text": [
            "Archive:  covid_19\n",
            "replace CovidDataset/Val/Covid/88de9d8c39e946abd495b37cd07d89e5-6531-0.jpg? [y]es, [n]o, [A]ll, [N]one, [r]ename: "
          ]
        }
      ]
    },
    {
      "cell_type": "code",
      "source": [
        "TRAIN_PATH = \"CovidDataset/Train\"\n",
        "VAL_PATH = \"CovidDataset/Test\""
      ],
      "metadata": {
        "id": "B4CjX5waCTVm"
      },
      "execution_count": 3,
      "outputs": []
    },
    {
      "cell_type": "code",
      "source": [
        "import numpy as numpy\n",
        "import matplotlib.pyplot as plt\n",
        "import keras\n",
        "from keras.layers import *\n",
        "from keras.models import *\n",
        "from keras.preprocessing import image"
      ],
      "metadata": {
        "id": "BaUPpB3DkmHS"
      },
      "execution_count": 4,
      "outputs": []
    },
    {
      "cell_type": "code",
      "source": [
        "## CNN based model in keras\n",
        "\n",
        "model =Sequential()\n",
        "model.add(Conv2D(32,kernel_size=(3,3),activation='relu',input_shape=(224,224,3)))\n",
        "model.add(Conv2D(64,(3,3),activation='relu'))\n",
        "model.add(MaxPooling2D(pool_size=(2,2)))\n",
        "model.add(Dropout(0.25))\n",
        "\n",
        "model.add(Conv2D(64,(3,3),activation='relu'))\n",
        "model.add(MaxPooling2D(pool_size=(2,2)))\n",
        "model.add(Dropout(0.25))\n",
        "\n",
        "model.add(Conv2D(128,(3,3),activation='relu'))\n",
        "model.add(MaxPooling2D(pool_size=(2,2)))\n",
        "model.add(Dropout(0.25))\n",
        "\n",
        "model.add(Flatten())\n",
        "model.add(Dense(64,activation='relu'))\n",
        "model.add(Dropout(0.5))\n",
        "model.add(Dense(1,activation='sigmoid'))\n",
        "\n",
        "model.compile(loss=keras.losses.binary_crossentropy,optimizer='adam',metrics=['accuracy'])\n"
      ],
      "metadata": {
        "id": "MiNXnVn_DN3A"
      },
      "execution_count": 5,
      "outputs": []
    },
    {
      "cell_type": "code",
      "source": [
        "model.summary()"
      ],
      "metadata": {
        "colab": {
          "base_uri": "https://localhost:8080/"
        },
        "id": "lVb10OlTGSYU",
        "outputId": "99207916-55cf-459d-a60b-b0124256fe22"
      },
      "execution_count": 6,
      "outputs": [
        {
          "output_type": "stream",
          "name": "stdout",
          "text": [
            "Model: \"sequential\"\n",
            "_________________________________________________________________\n",
            " Layer (type)                Output Shape              Param #   \n",
            "=================================================================\n",
            " conv2d (Conv2D)             (None, 222, 222, 32)      896       \n",
            "                                                                 \n",
            " conv2d_1 (Conv2D)           (None, 220, 220, 64)      18496     \n",
            "                                                                 \n",
            " max_pooling2d (MaxPooling2D  (None, 110, 110, 64)     0         \n",
            " )                                                               \n",
            "                                                                 \n",
            " dropout (Dropout)           (None, 110, 110, 64)      0         \n",
            "                                                                 \n",
            " conv2d_2 (Conv2D)           (None, 108, 108, 64)      36928     \n",
            "                                                                 \n",
            " max_pooling2d_1 (MaxPooling  (None, 54, 54, 64)       0         \n",
            " 2D)                                                             \n",
            "                                                                 \n",
            " dropout_1 (Dropout)         (None, 54, 54, 64)        0         \n",
            "                                                                 \n",
            " conv2d_3 (Conv2D)           (None, 52, 52, 128)       73856     \n",
            "                                                                 \n",
            " max_pooling2d_2 (MaxPooling  (None, 26, 26, 128)      0         \n",
            " 2D)                                                             \n",
            "                                                                 \n",
            " dropout_2 (Dropout)         (None, 26, 26, 128)       0         \n",
            "                                                                 \n",
            " flatten (Flatten)           (None, 86528)             0         \n",
            "                                                                 \n",
            " dense (Dense)               (None, 64)                5537856   \n",
            "                                                                 \n",
            " dropout_3 (Dropout)         (None, 64)                0         \n",
            "                                                                 \n",
            " dense_1 (Dense)             (None, 1)                 65        \n",
            "                                                                 \n",
            "=================================================================\n",
            "Total params: 5,668,097\n",
            "Trainable params: 5,668,097\n",
            "Non-trainable params: 0\n",
            "_________________________________________________________________\n"
          ]
        }
      ]
    },
    {
      "cell_type": "code",
      "source": [
        "# Train from scratch\n",
        "train_datagen = image.ImageDataGenerator(\n",
        "      rescale = 1./255,\n",
        "      shear_range =0.2,\n",
        "      zoom_range = 0.2,\n",
        "      horizontal_flip =True,     \n",
        " )\n",
        "\n",
        "test_dataset = image.ImageDataGenerator(rescale=1./255)"
      ],
      "metadata": {
        "id": "MZ3TmToTHQ0g"
      },
      "execution_count": 7,
      "outputs": []
    },
    {
      "cell_type": "code",
      "source": [
        "train_generator = train_datagen.flow_from_directory(\n",
        "    'CovidDataset/Train',\n",
        "    target_size = (224,224),\n",
        "    batch_size =32,\n",
        "    class_mode = 'binary')"
      ],
      "metadata": {
        "colab": {
          "base_uri": "https://localhost:8080/"
        },
        "id": "bAaCkGn4IyEb",
        "outputId": "d249fbb9-f4bd-4c47-a00f-43f7026bec29"
      },
      "execution_count": 8,
      "outputs": [
        {
          "output_type": "stream",
          "name": "stdout",
          "text": [
            "Found 224 images belonging to 2 classes.\n"
          ]
        }
      ]
    },
    {
      "cell_type": "code",
      "source": [
        "train_generator.class_indices"
      ],
      "metadata": {
        "colab": {
          "base_uri": "https://localhost:8080/"
        },
        "id": "9vDKJszRJcmB",
        "outputId": "3054bd8c-0fbc-43e8-a064-c72d1b8e638a"
      },
      "execution_count": 9,
      "outputs": [
        {
          "output_type": "execute_result",
          "data": {
            "text/plain": [
              "{'Covid': 0, 'Normal': 1}"
            ]
          },
          "metadata": {},
          "execution_count": 9
        }
      ]
    },
    {
      "cell_type": "code",
      "source": [
        "validation_generator = test_dataset.flow_from_directory(\n",
        "    'CovidDataset/Val',\n",
        "    target_size = (224,224),\n",
        "    batch_size = 32,\n",
        "    class_mode = 'binary'\n",
        ")"
      ],
      "metadata": {
        "colab": {
          "base_uri": "https://localhost:8080/"
        },
        "id": "hfpozprVJj3K",
        "outputId": "7459812f-d5d6-4d6d-f23a-fd84bcdddd92"
      },
      "execution_count": 10,
      "outputs": [
        {
          "output_type": "stream",
          "name": "stdout",
          "text": [
            "Found 60 images belonging to 2 classes.\n"
          ]
        }
      ]
    },
    {
      "cell_type": "code",
      "source": [
        "hist = model.fit_generator(\n",
        "    train_generator,\n",
        "    steps_per_epoch=7,\n",
        "    epochs = 10,\n",
        "    validation_data = validation_generator,\n",
        "    validation_steps=2\n",
        ")"
      ],
      "metadata": {
        "colab": {
          "base_uri": "https://localhost:8080/"
        },
        "id": "Q66_9BGTKKbt",
        "outputId": "1de7051d-3a89-4af9-8b27-c28e7a2b6bab"
      },
      "execution_count": 11,
      "outputs": [
        {
          "output_type": "stream",
          "name": "stderr",
          "text": [
            "/usr/local/lib/python3.7/dist-packages/ipykernel_launcher.py:6: UserWarning: `Model.fit_generator` is deprecated and will be removed in a future version. Please use `Model.fit`, which supports generators.\n",
            "  \n"
          ]
        },
        {
          "output_type": "stream",
          "name": "stdout",
          "text": [
            "Epoch 1/10\n",
            "7/7 [==============================] - 17s 2s/step - loss: 1.5722 - accuracy: 0.5714 - val_loss: 0.6902 - val_accuracy: 0.5000\n",
            "Epoch 2/10\n",
            "7/7 [==============================] - 11s 2s/step - loss: 0.6511 - accuracy: 0.6205 - val_loss: 0.5782 - val_accuracy: 0.9333\n",
            "Epoch 3/10\n",
            "7/7 [==============================] - 11s 2s/step - loss: 0.4541 - accuracy: 0.8214 - val_loss: 0.4106 - val_accuracy: 0.8167\n",
            "Epoch 4/10\n",
            "7/7 [==============================] - 11s 2s/step - loss: 0.5741 - accuracy: 0.7411 - val_loss: 0.4651 - val_accuracy: 0.9500\n",
            "Epoch 5/10\n",
            "7/7 [==============================] - 11s 2s/step - loss: 0.4026 - accuracy: 0.8259 - val_loss: 0.3143 - val_accuracy: 0.9667\n",
            "Epoch 6/10\n",
            "7/7 [==============================] - 11s 2s/step - loss: 0.3273 - accuracy: 0.8616 - val_loss: 0.2031 - val_accuracy: 0.9667\n",
            "Epoch 7/10\n",
            "7/7 [==============================] - 11s 2s/step - loss: 0.2524 - accuracy: 0.8929 - val_loss: 0.1570 - val_accuracy: 0.9833\n",
            "Epoch 8/10\n",
            "7/7 [==============================] - 11s 2s/step - loss: 0.2244 - accuracy: 0.9286 - val_loss: 0.0913 - val_accuracy: 0.9500\n",
            "Epoch 9/10\n",
            "7/7 [==============================] - 11s 2s/step - loss: 0.1396 - accuracy: 0.9643 - val_loss: 0.0665 - val_accuracy: 0.9833\n",
            "Epoch 10/10\n",
            "7/7 [==============================] - 11s 2s/step - loss: 0.1222 - accuracy: 0.9509 - val_loss: 0.0617 - val_accuracy: 0.9833\n"
          ]
        }
      ]
    },
    {
      "cell_type": "code",
      "source": [
        "model.save('model_adv.h5')"
      ],
      "metadata": {
        "id": "uZUPG8BlmCNJ"
      },
      "execution_count": 12,
      "outputs": []
    },
    {
      "cell_type": "code",
      "source": [
        "model.evaluate_generator(train_generator)"
      ],
      "metadata": {
        "colab": {
          "base_uri": "https://localhost:8080/"
        },
        "id": "Ce49iFGyKoVK",
        "outputId": "05e3b17b-f449-4e00-ff87-d59b4cdafc12"
      },
      "execution_count": 13,
      "outputs": [
        {
          "output_type": "stream",
          "name": "stderr",
          "text": [
            "/usr/local/lib/python3.7/dist-packages/ipykernel_launcher.py:1: UserWarning: `Model.evaluate_generator` is deprecated and will be removed in a future version. Please use `Model.evaluate`, which supports generators.\n",
            "  \"\"\"Entry point for launching an IPython kernel.\n"
          ]
        },
        {
          "output_type": "execute_result",
          "data": {
            "text/plain": [
              "[0.09332921355962753, 0.9776785969734192]"
            ]
          },
          "metadata": {},
          "execution_count": 13
        }
      ]
    },
    {
      "cell_type": "code",
      "source": [
        "model.evaluate_generator(validation_generator)"
      ],
      "metadata": {
        "colab": {
          "base_uri": "https://localhost:8080/"
        },
        "id": "6PjYhxuaSx_b",
        "outputId": "b339a407-b93c-4692-c866-ce2531621523"
      },
      "execution_count": 14,
      "outputs": [
        {
          "output_type": "stream",
          "name": "stderr",
          "text": [
            "/usr/local/lib/python3.7/dist-packages/ipykernel_launcher.py:1: UserWarning: `Model.evaluate_generator` is deprecated and will be removed in a future version. Please use `Model.evaluate`, which supports generators.\n",
            "  \"\"\"Entry point for launching an IPython kernel.\n"
          ]
        },
        {
          "output_type": "execute_result",
          "data": {
            "text/plain": [
              "[0.06168830394744873, 0.9833333492279053]"
            ]
          },
          "metadata": {},
          "execution_count": 14
        }
      ]
    },
    {
      "cell_type": "code",
      "source": [
        "model = load_model('model_adv.h5')"
      ],
      "metadata": {
        "id": "uKCqqZKimhEF"
      },
      "execution_count": 15,
      "outputs": []
    },
    {
      "cell_type": "code",
      "source": [
        "# Test Images"
      ],
      "metadata": {
        "id": "mwPgHuPtTGcN"
      },
      "execution_count": 16,
      "outputs": []
    },
    {
      "cell_type": "code",
      "source": [
        "import os \n",
        "train_generator.class_indices"
      ],
      "metadata": {
        "colab": {
          "base_uri": "https://localhost:8080/"
        },
        "id": "efGP9_BITfq_",
        "outputId": "37af20ac-16c9-4759-c687-b83375fba1c4"
      },
      "execution_count": 28,
      "outputs": [
        {
          "output_type": "execute_result",
          "data": {
            "text/plain": [
              "{'Covid': 0, 'Normal': 1}"
            ]
          },
          "metadata": {},
          "execution_count": 28
        }
      ]
    },
    {
      "cell_type": "code",
      "source": [
        "\n",
        "y_actual = []\n",
        "y_test = []"
      ],
      "metadata": {
        "id": "_Z4032EIqhf9"
      },
      "execution_count": 37,
      "outputs": []
    },
    {
      "cell_type": "code",
      "source": [
        "\n",
        "for i in os.listdir(\"./CovidDataset/Test/Normal/\"):\n",
        "    img = image.load_img(\"./CovidDataset/Test/Normal/\"+i,target_size=(224,224))\n",
        "    img = image.img_to_array(img)\n",
        "    img = numpy.expand_dims(img,axis=0)\n",
        "    p = model.predict(img)\n",
        "    y_test.append(p[0,0])\n",
        "    y_actual.append(1)\n"
      ],
      "metadata": {
        "id": "pLmjqw27UJbI"
      },
      "execution_count": 38,
      "outputs": []
    },
    {
      "cell_type": "code",
      "source": [
        "for i in os.listdir(\"./CovidDataset/Test/Covid/\"):\n",
        "    img = image.load_img(\"./CovidDataset/Test/Covid/\"+i,target_size=(224,224))\n",
        "    img = image.img_to_array(img)\n",
        "    img = numpy.expand_dims(img,axis=0)\n",
        "    p = model.predict(img)\n",
        "    y_test.append(p[0,0])\n",
        "    y_actual.append(0)"
      ],
      "metadata": {
        "id": "r_z677MCXHW7"
      },
      "execution_count": 39,
      "outputs": []
    },
    {
      "cell_type": "markdown",
      "source": [
        ""
      ],
      "metadata": {
        "id": "hPskrhHqsMiT"
      }
    },
    {
      "cell_type": "code",
      "source": [
        "y_actual = numpy.array(y_actual)\n",
        "y_test  = numpy.array(y_test)"
      ],
      "metadata": {
        "id": "TKv5U3A1X-Il"
      },
      "execution_count": 40,
      "outputs": []
    },
    {
      "cell_type": "markdown",
      "source": [
        ""
      ],
      "metadata": {
        "id": "A6Uub_Otlc9U"
      }
    },
    {
      "cell_type": "code",
      "source": [
        "from sklearn.metrics import confusion_matrix"
      ],
      "metadata": {
        "id": "fo8Wqv5wYOhr"
      },
      "execution_count": 41,
      "outputs": []
    },
    {
      "cell_type": "code",
      "source": [
        "cm = confusion_matrix(y_actual, y_test)"
      ],
      "metadata": {
        "id": "yu8B6msMYUO_"
      },
      "execution_count": 42,
      "outputs": []
    },
    {
      "cell_type": "code",
      "source": [
        "import seaborn as sns \n",
        "sns.heatmap(cm,cmap=\"plasma\", annot=True)"
      ],
      "metadata": {
        "colab": {
          "base_uri": "https://localhost:8080/",
          "height": 282
        },
        "id": "vHsOvFtSYf49",
        "outputId": "dda74dea-3459-451b-c9f2-341c33ea0cc5"
      },
      "execution_count": 43,
      "outputs": [
        {
          "output_type": "execute_result",
          "data": {
            "text/plain": [
              "<matplotlib.axes._subplots.AxesSubplot at 0x7ff2203edad0>"
            ]
          },
          "metadata": {},
          "execution_count": 43
        },
        {
          "output_type": "display_data",
          "data": {
            "text/plain": [
              "<Figure size 432x288 with 2 Axes>"
            ],
            "image/png": "[encoded data removed]"
          },
          "metadata": {
            "needs_background": "light"
          }
        }
      ]
    }
  ]
}